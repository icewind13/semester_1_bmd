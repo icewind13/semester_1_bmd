{
 "cells": [
  {
   "cell_type": "markdown",
   "metadata": {
    "colab_type": "text",
    "id": "weuwGEo2mJBC"
   },
   "source": [
    "# Дисперсійний аналіз"
   ]
  },
  {
   "cell_type": "markdown",
   "metadata": {
    "colab_type": "text",
    "id": "ZUzN4OAhmxkD"
   },
   "source": [
    "##Теоретичні відомості"
   ]
  },
  {
   "cell_type": "markdown",
   "metadata": {
    "colab_type": "text",
    "id": "GCJ4px_JmMeY"
   },
   "source": [
    "**Дисперсійний аналіз** - статистичний метод дослідження взаємозв'язку. Застосовується для аналізу впливу якісної змінної  на одну залежну (кількісну) змінну.\n",
    "В основі дисперсійного аналізу лежить припущення, що одні змінні можливо розглядати як причини (незалежні змінні), інші - як наслідки (залежні змінні). Незалежні змінні в дисперсійному аналізі називають факторами.\n",
    " У зарубежній літературі дисперсійний аналіз часто обозначається як ANOVA, що переводиться як аналіз варіативності (Analysis of Variance).\n",
    "\n",
    "Дисперсійний аналіз - параметричний метод.\n",
    "\n",
    "\n"
   ]
  },
  {
   "cell_type": "markdown",
   "metadata": {
    "colab_type": "text",
    "id": "t1MGzbZKm0QY"
   },
   "source": [
    "### Область застосування"
   ]
  },
  {
   "cell_type": "markdown",
   "metadata": {
    "colab_type": "text",
    "id": "u6P7khWWm16u"
   },
   "source": [
    "ANOVA використовують для визначення статистичних відмінностей у *середніх* значення двох або більше групп."
   ]
  },
  {
   "cell_type": "markdown",
   "metadata": {
    "colab_type": "text",
    "id": "LOW2EJNpm5oi"
   },
   "source": [
    "### Вимоги до даних"
   ]
  },
  {
   "cell_type": "markdown",
   "metadata": {
    "colab_type": "text",
    "id": "ldtCTT-2m6tf"
   },
   "source": [
    "Ваші дані повинні відповідати наступним вимогам:\n",
    "1. Залежна змінна має бути безперервною (кількісною).\n",
    "2. Незалежна змінна має бути категоріальною (містити дві або більше груп).\n",
    "3. Групи є незалежними.\n",
    "4. Залежна змінна має нормальний розподіл.\n",
    "5. Однорідність дисперсій. Групи мають приблизно однакові дисперсії.\n",
    "6. Залежна змінна не містить викидів.\n",
    "7. Кожна група має містити принаймні 6 спостережень.\n",
    "8. Сбалансований дизайн. В ідеалі, групи мають бути однаковими за розміром.\n"
   ]
  },
  {
   "cell_type": "markdown",
   "metadata": {
    "colab_type": "text",
    "id": "zcDHzLIZm6_R"
   },
   "source": [
    "### Гіпотеза"
   ]
  },
  {
   "cell_type": "markdown",
   "metadata": {
    "colab_type": "text",
    "id": "pYFVPpI6m899"
   },
   "source": [
    "Гіпотеза, яка перевіряєть даним тестом може бути виражена наступним чином:\n",
    "\n",
    "$H_0 : μ_1  = μ_2 = ... =  μ_n $ («середні  незалежних груп рівні»)\n",
    "\n",
    "$H_1 : μ_1  ≠ μ_2 ≠ ... ≠ μ_n$ («середні  незалежних груп відмінні»)"
   ]
  },
  {
   "cell_type": "markdown",
   "metadata": {
    "colab_type": "text",
    "id": "zo71OMQ6m9HF"
   },
   "source": [
    "### Алгоритм розрахунку"
   ]
  },
  {
   "cell_type": "markdown",
   "metadata": {
    "colab_type": "text",
    "id": "XWDrm4xAnDiE"
   },
   "source": [
    "Припустимо, що є три незалежні групи кожна з яких пройшла тест на запам'ятовування 10 слів. Першій групі слова демонструвалися з низькою швидкістю - 1 слово в 5 секунд, другій  з середньою швидкістю - 1 слово в 2 секунди, і третій групі з великою швидкістю - 1 слово в секунду.\n",
    "\n",
    "Прикладом задачі, яка вирішується методом дисперсійного аналізу є аналіз впливу швидкості демонстрації слів на результат тесту. \n",
    "\n",
    "n  | Група 1 (низька швидкість) | Група 2 (середня швидкість) | Група 3 (висока швидкість) |\n",
    "------------- | ------------- |--------- | ------------- | \n",
    "1  | 8   | 7   | 4   | \n",
    "2  | 7   | 8   |5   | \n",
    "3  | 9   | 5   |3   |\n",
    "4  | 5   | 4   |6   | \n",
    "5  | 6  | 6   |2  |  \n",
    "6  | 8   | 7  |4  | \n",
    "Сума  | 43   | 37  |24   |\n",
    "Середні  | 7,17   | 3,17   |4  | \n",
    "\n",
    "Загальна сума - 104\n",
    "\n",
    "Основні величини для однофакторного дисперсійного аналізу:\n",
    "1. $T_c$, cуми індивідуальних значень по кожнії з груп: 43, 37, 24.\n",
    "2. $\\sum{T^2_c}$,  cума квадратів сумарних значень по кожній з груп: $43^2 +  37^2 + 24^2 = 3794$\n",
    "3. $c$, кількість умов (градацій фактора/ груп): 3\n",
    "4. $n$, кількість досліджень в групах: 6, 6, 6.\n",
    "5. $N$, загальна кількість досліджень: 18.\n",
    "6. $(\\sum{x_i})^2$, квадрат загальної суми індивідуальних значень: 10 816\n",
    "7. $\\frac{(\\sum{x_i})^2}{N}$,Константа, яку потрібно відняти від кожної суми квадратів:  600,9\n",
    "8. $x_i$, індивідуальне значення\n",
    "9. $\\sum({x_i}^2)$, сума квадратів індивідуальних значень.\n",
    "\n",
    "\n",
    "Тоді, послідовність операцій в однофакторному дисперсійному аналізі виглядає наступним чином:\n",
    "1. Розрахувати внутрішньогрупову дисперсію ($SS_{факт}$).\n",
    "\n",
    "$$ SS_{факт}  = \\frac{\\sum{T^2_c}}{n} - \\frac{(\\sum{x_i})^2}{N} = \\frac{3794}{6} - \\frac{10 816}{18} = 31,44$$\n",
    "\n",
    "2. Розрахувати загальногрупову дисперсію ($SS_{заг}$).\n",
    "$$ SS_{заг} = \\sum({x_i}^2) - \\frac{(\\sum{x_i})^2}{N} =  8^2+7^2+9^2+5^2+6^2+8^2+7^2+7^2+8^2+5^2+ 4^2+ 6^2+ 7^2+ 4^2+ 5^2+ 3^2+ 6^2+ 2^2+ 4^2 - \\frac{104^2}{18} = 63,11$$\n",
    "\n",
    "3. Розрахувати випадкову (залишкову) величину $SS_{вип}$\n",
    "$$ SS_{вип} = SS_{заг} - SS_{факт} = 63,11 -31,44 = 31,67 $$\n",
    "\n",
    "4. Визначити кількість ступенів свободи:\n",
    "$$d_{факт} = c - 1 = 3 - 1 = 2$$\n",
    "$$d_{заг} = N - 1 = 18 - 1 = 17$$\n",
    "$$d_{вип} = d_{заг} - d_{факт} = 17 - 2 = 15$$\n",
    "\n",
    "5. Розділити кожну SS на відповідне число ступенів свободи:\n",
    "$$MS_{факт} = \\frac{SS_{факт}}{d_{факт}} = \\frac{31,44}{2} = 15,72$$\n",
    "$$MS_{вип} = \\frac{SS_{вип}}{d_{вип}} = \\frac{31,67}{15} = 2,11$$\n",
    "\n",
    "6. Розрахувати значення $F_{емпір}$\n",
    "$$ F_{емпір} = \\frac{MS_{факт}}{MS_{вип}} = \\frac{15,72}{2,11} = 7,45 $$\n",
    "\n",
    "7. Визначити критичне значення F по таблиці критичних значень: \n",
    "\n",
    "$$F_{крит(2,15)} = 3,7 $$\n",
    "\n",
    "8. Співставити емпіричне та критичне значення F.\n",
    "\n",
    "При $F_{емпір} \\geq F_{крит(2,15)}$ нульова гіпотеза про рівність середніх відхиляється.\n",
    "\n",
    "$$7,45 > 3,7$$ - рівність середніх не підтверджена.\n"
   ]
  },
  {
   "cell_type": "markdown",
   "metadata": {
    "colab_type": "text",
    "id": "9qiU_OebnDpv"
   },
   "source": [
    "### Завдання"
   ]
  },
  {
   "cell_type": "markdown",
   "metadata": {
    "colab_type": "text",
    "id": "NlTSSN6x6yTz"
   },
   "source": [
    "1. Розрахувати та вивести у вигляді таблиці статистичні характиристики даних (середні та стандартні відхилення для кожної з груп).\n",
    "2. Побудувати графік розкиду в групах.\n",
    "3. Побудувати функцію, що реалізовує однофакторний дисперсійний аналіз.\n",
    "4. Вивести результати розрахунку кожного з етапів вказаних вище у вигляді таблиці.\n",
    "5. Перевірити результат роботи функції на реальних або сгенерованих даних. Зробити висновок."
   ]
  },
  {
   "cell_type": "code",
   "execution_count": 30,
   "metadata": {
    "scrolled": false
   },
   "outputs": [
    {
     "data": {
      "text/plain": [
       "<matplotlib.axes._subplots.AxesSubplot at 0x20252050608>"
      ]
     },
     "execution_count": 30,
     "metadata": {},
     "output_type": "execute_result"
    },
    {
     "data": {
      "image/png": "[encoded data removed]",
      "text/plain": [
       "<Figure size 432x288 with 1 Axes>"
      ]
     },
     "metadata": {
      "needs_background": "light"
     },
     "output_type": "display_data"
    }
   ],
   "source": [
    "import matplotlib.pyplot as plt\n",
    "import pandas as pd\n",
    "%matplotlib inline\n",
    "data=pd.DataFrame({\n",
    "    \"x\":[1,2,2,3,3,3,4,4,5],\n",
    "    \"y\":[3,4,4,5,5,5,6,6,7]\n",
    "})\n",
    "data.boxplot()"
   ]
  },
  {
   "cell_type": "code",
   "execution_count": 31,
   "metadata": {
    "scrolled": false
   },
   "outputs": [
    {
     "data": {
      "text/html": [
       "<div>\n",
       "<style scoped>\n",
       "    .dataframe tbody tr th:only-of-type {\n",
       "        vertical-align: middle;\n",
       "    }\n",
       "\n",
       "    .dataframe tbody tr th {\n",
       "        vertical-align: top;\n",
       "    }\n",
       "\n",
       "    .dataframe thead th {\n",
       "        text-align: right;\n",
       "    }\n",
       "</style>\n",
       "<table border=\"1\" class=\"dataframe\">\n",
       "  <thead>\n",
       "    <tr style=\"text-align: right;\">\n",
       "      <th></th>\n",
       "      <th>x</th>\n",
       "      <th>y</th>\n",
       "    </tr>\n",
       "  </thead>\n",
       "  <tbody>\n",
       "    <tr>\n",
       "      <td>0</td>\n",
       "      <td>1</td>\n",
       "      <td>3</td>\n",
       "    </tr>\n",
       "    <tr>\n",
       "      <td>1</td>\n",
       "      <td>2</td>\n",
       "      <td>4</td>\n",
       "    </tr>\n",
       "    <tr>\n",
       "      <td>2</td>\n",
       "      <td>2</td>\n",
       "      <td>4</td>\n",
       "    </tr>\n",
       "    <tr>\n",
       "      <td>3</td>\n",
       "      <td>3</td>\n",
       "      <td>5</td>\n",
       "    </tr>\n",
       "    <tr>\n",
       "      <td>4</td>\n",
       "      <td>3</td>\n",
       "      <td>5</td>\n",
       "    </tr>\n",
       "    <tr>\n",
       "      <td>5</td>\n",
       "      <td>3</td>\n",
       "      <td>5</td>\n",
       "    </tr>\n",
       "    <tr>\n",
       "      <td>6</td>\n",
       "      <td>4</td>\n",
       "      <td>6</td>\n",
       "    </tr>\n",
       "    <tr>\n",
       "      <td>7</td>\n",
       "      <td>4</td>\n",
       "      <td>6</td>\n",
       "    </tr>\n",
       "    <tr>\n",
       "      <td>8</td>\n",
       "      <td>5</td>\n",
       "      <td>7</td>\n",
       "    </tr>\n",
       "  </tbody>\n",
       "</table>\n",
       "</div>"
      ],
      "text/plain": [
       "   x  y\n",
       "0  1  3\n",
       "1  2  4\n",
       "2  2  4\n",
       "3  3  5\n",
       "4  3  5\n",
       "5  3  5\n",
       "6  4  6\n",
       "7  4  6\n",
       "8  5  7"
      ]
     },
     "execution_count": 31,
     "metadata": {},
     "output_type": "execute_result"
    }
   ],
   "source": [
    "data"
   ]
  },
  {
   "cell_type": "code",
   "execution_count": 50,
   "metadata": {},
   "outputs": [],
   "source": [
    "def anova(x,y):\n",
    "    c=2\n",
    "    tx=0\n",
    "    ty=0\n",
    "    n=9\n",
    "    N=18\n",
    "    Ex=0\n",
    "    for i in range (0,len(x)):\n",
    "        tx+=x[i]\n",
    "        ty+=y[i]\n",
    "        Ex+=x[i]**2\n",
    "        Ex+=y[i]**2\n",
    "    t2=tx**2+ty**2\n",
    "    E=(tx+ty)**2\n",
    "    SSfact=t2/n-E/N\n",
    "    SScommon=Ex-E/N\n",
    "    SSrandom=SScommon-SSfact\n",
    "    MSfact=SSfact/(c-1)\n",
    "    MSrandom=SSrandom/((N-1)-(c-1))\n",
    "    Femp=MSfact/MSrandom\n",
    "    Fcrit=4.5\n",
    "    return Femp>Fcrit"
   ]
  },
  {
   "cell_type": "code",
   "execution_count": 51,
   "metadata": {},
   "outputs": [
    {
     "data": {
      "text/plain": [
       "True"
      ]
     },
     "execution_count": 51,
     "metadata": {},
     "output_type": "execute_result"
    }
   ],
   "source": [
    "anova(data[\"x\"],data[\"y\"])"
   ]
  }
 ],
 "metadata": {
  "colab": {
   "authorship_tag": "ABX9TyPz43bweI3Rw31Fk91MPGuX",
   "collapsed_sections": [],
   "name": "КП8.ipynb",
   "provenance": []
  },
  "kernelspec": {
   "display_name": "Python 3",
   "language": "python",
   "name": "python3"
  },
  "language_info": {
   "codemirror_mode": {
    "name": "ipython",
    "version": 3
   },
   "file_extension": ".py",
   "mimetype": "text/x-python",
   "name": "python",
   "nbconvert_exporter": "python",
   "pygments_lexer": "ipython3",
   "version": "3.7.4"
  }
 },
 "nbformat": 4,
 "nbformat_minor": 1
}
