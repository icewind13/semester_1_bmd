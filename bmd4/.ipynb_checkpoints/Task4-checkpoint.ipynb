{
 "cells": [
  {
   "cell_type": "markdown",
   "metadata": {
    "colab_type": "text",
    "id": "2EyOSpkMJkLm"
   },
   "source": [
    "### **Перевірка даних на нормальність за допомогою критерію Шапіра-Уілка**\n",
    "\n",
    "\n"
   ]
  },
  {
   "cell_type": "markdown",
   "metadata": {
    "colab_type": "text",
    "id": "5PcijeprNVJF"
   },
   "source": [
    " \n",
    "\n",
    "1.   Сгенеруйте набір даних, що містить не менше 6 змінних. Частину змінних згенеруйте за нормальний розподілом, частину - за будь-яким іншим розподілом. Кількість спостережень - 20.\n",
    "\n",
    "\n",
    "\n",
    "\n"
   ]
  },
  {
   "cell_type": "code",
   "execution_count": 99,
   "metadata": {},
   "outputs": [],
   "source": [
    "import pandas as pd\n",
    "d1=[1,7,6,7,0,8,12,12,5,7,6,8,13,0,7,8,6,1,12,2]\n",
    "d2=[7,5,6,5,5,6,4,6,4,7,1,2,3,1,2,3,1,2,3,4]\n",
    "d3=[13,1,2,11,20, 13,15,11,5,4,12,6,1,3,5,7,8,13,17,19]\n",
    "d4=[14,7,8,11,4,6,7,14,20,20,5,4,9,4,1,6,8,11,21,2]\n",
    "d5=[1,3,5,5,6,7,8,8,6,1,12,15,17,12,18,13,14,1,3,20]\n",
    "d6=[7,8,9,7,8,14,15,16,14,15,6,5,4,11,12,10,13,16,17,20]\n",
    "\n"
   ]
  },
  {
   "cell_type": "markdown",
   "metadata": {
    "colab_type": "text",
    "id": "TZ6nEDt-J6Sw"
   },
   "source": [
    "2.   Створіть функцію, що реалізує критерій Шапіро-Уілка та застосуйте її до кожної змінної набору данних.\n",
    "Детальний опис роботи критерію та приклад його розрахунку (с. 606):\n",
    "https://pdfs.semanticscholar.org/e4a7/42a4f0585b4e4069726f6628f4d4285a0827.pdf\n",
    "\n"
   ]
  },
  {
   "cell_type": "code",
   "execution_count": 122,
   "metadata": {},
   "outputs": [],
   "source": [
    "def sortingthing(arr):\n",
    "    while(True):\n",
    "        n=0\n",
    "        t=0\n",
    "        while(t<len(arr)-1):\n",
    "            if(arr[t]>arr[t+1]):\n",
    "                arr[t],arr[t+1]=arr[t+1],arr[t]\n",
    "                n+=1\n",
    "            t+=1\n",
    "        if(n==0):\n",
    "            break\n",
    "    return arr\n",
    "            \n",
    "def shapiro(n):\n",
    "    n=sortingthing(n)\n",
    "    s=0\n",
    "    for i in n:\n",
    "       s=s+i\n",
    "    xs=s/len(n)\n",
    "    s2=0\n",
    "    for i in n:\n",
    "        s2+=pow((i-xs),2)\n",
    "    a=[0.4734,0.3211,0.2565,0.2085,0.1686,0.1334,0.1013,0.0711,0.0422,0.0140]\n",
    "    k=0\n",
    "    b=0\n",
    "    while(k<len(n)/2):\n",
    "        b+= a[k]*(n[len(n)-k-1]-n[k])\n",
    "        k+=1\n",
    "    w=pow(b,2)/s2\n",
    "    return w\n"
   ]
  },
  {
   "cell_type": "code",
   "execution_count": 152,
   "metadata": {},
   "outputs": [
    {
     "data": {
      "text/plain": [
       "0.964187053335067"
      ]
     },
     "execution_count": 152,
     "metadata": {},
     "output_type": "execute_result"
    }
   ],
   "source": [
    "shapiro(d6)"
   ]
  },
  {
   "cell_type": "markdown",
   "metadata": {
    "colab_type": "text",
    "id": "1db-l1XakhYS"
   },
   "source": [
    "3. Сгенеруйте пусту таблицю, в якій кількість рядків - це кількість змінних + 1. Кількість стовбчиків - 3. Назва стовпчиків - Variable, Statistics, Distribution.\n",
    "Шаблон таблиці:\n",
    "https://drive.google.com/open?id=1nT1PwM3cj6VuJa8vkjdsBuNNVoDyGncZ"
   ]
  },
  {
   "cell_type": "markdown",
   "metadata": {
    "colab_type": "text",
    "id": "Gt4u5fI5mHw7"
   },
   "source": [
    "4. Занести в стовпчик Variable назви змінних."
   ]
  },
  {
   "cell_type": "markdown",
   "metadata": {
    "colab_type": "text",
    "id": "VDPx0OrJmKMq"
   },
   "source": [
    "# 5. Занести в стовпчик Distribution результати роботи криетрію Шапіро-Уілка. Для змінних, які розподілені за нормальним законом вносити \"normal\", в протилежному вигляді - \"non-normal\"."
   ]
  },
  {
   "cell_type": "markdown",
   "metadata": {
    "colab_type": "text",
    "id": "tNL5-LWjmgN_"
   },
   "source": [
    "6. Розрахувати для всіх змінних, що розподілені за нормальним законом розрахувати середне значення та стандартне відхилення. Записати в таблицю. Форма запису: Середнє [стандартне відхилення].\n",
    "\n"
   ]
  },
  {
   "cell_type": "code",
   "execution_count": 161,
   "metadata": {},
   "outputs": [],
   "source": [
    "def ser(n):\n",
    "    s=0\n",
    "    for i in n:\n",
    "       s=s+i\n",
    "    xs=s/len(n)\n",
    "    s2=0\n",
    "    for i in n:\n",
    "        s2+=pow((i-xs),2)\n",
    "    s2/=len(n)\n",
    "    return xs,s2"
   ]
  },
  {
   "cell_type": "code",
   "execution_count": 164,
   "metadata": {},
   "outputs": [
    {
     "data": {
      "text/plain": [
       "[1, 2, 4, 4, 4, 5, 6, 6, 7, 7, 8, 8, 9, 11, 11, 14, 14, 20, 20, 21]"
      ]
     },
     "execution_count": 164,
     "metadata": {},
     "output_type": "execute_result"
    }
   ],
   "source": [
    "sortingthing(d4)"
   ]
  },
  {
   "cell_type": "markdown",
   "metadata": {
    "colab_type": "text",
    "id": "yNpJG4jLm6HR"
   },
   "source": [
    "7. Розрахувати для всіх змінних, що розподілені за розподілом відсутнім від нормального розрахувати медіану та інтерквартильний розмах. Записати в таблицю. Форма запису: Медіана [25%; 75%]."
   ]
  },
  {
   "cell_type": "markdown",
   "metadata": {
    "colab_type": "text",
    "id": "f5q92XD0nJ6N"
   },
   "source": [
    "8. Зберегти таблицю в пдф форматі"
   ]
  }
 ],
 "metadata": {
  "colab": {
   "collapsed_sections": [],
   "name": "Task4.ipynb",
   "provenance": []
  },
  "kernelspec": {
   "display_name": "Python 3",
   "language": "python",
   "name": "python3"
  },
  "language_info": {
   "codemirror_mode": {
    "name": "ipython",
    "version": 3
   },
   "file_extension": ".py",
   "mimetype": "text/x-python",
   "name": "python",
   "nbconvert_exporter": "python",
   "pygments_lexer": "ipython3",
   "version": "3.7.4"
  }
 },
 "nbformat": 4,
 "nbformat_minor": 1
}
